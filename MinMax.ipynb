{
  "nbformat": 4,
  "nbformat_minor": 0,
  "metadata": {
    "colab": {
      "provenance": []
    },
    "kernelspec": {
      "name": "python3",
      "display_name": "Python 3"
    },
    "language_info": {
      "name": "python"
    }
  },
  "cells": [
    {
      "cell_type": "code",
      "execution_count": 3,
      "metadata": {
        "colab": {
          "base_uri": "https://localhost:8080/"
        },
        "id": "6iIOiNN38RvQ",
        "outputId": "73aa4356-15d6-450b-9f30-3d712ab430f9"
      },
      "outputs": [
        {
          "output_type": "stream",
          "name": "stdout",
          "text": [
            "   age  height  weight\n",
            "0   21     150      50\n",
            "1   36     165      60\n",
            "2   23     172      55\n",
            "3   34     180      70\n",
            "4   13     190      80\n",
            "[[0.34782609 0.         0.        ]\n",
            " [1.         0.375      0.33333333]\n",
            " [0.43478261 0.55       0.16666667]\n",
            " [0.91304348 0.75       0.66666667]\n",
            " [0.         1.         1.        ]]\n",
            "\n",
            "Normalized DataFrame (scaled to range [0, 1]):\n",
            "        age  height    weight\n",
            "0  0.347826   0.000  0.000000\n",
            "1  1.000000   0.375  0.333333\n",
            "2  0.434783   0.550  0.166667\n",
            "3  0.913043   0.750  0.666667\n",
            "4  0.000000   1.000  1.000000\n"
          ]
        }
      ],
      "source": [
        "import pandas as pd\n",
        "from sklearn.preprocessing import MinMaxScaler\n",
        "data = {\n",
        "    \"age\": [21,36,23,34,13],\n",
        "    \"height\":[150,165,172,180,190],\n",
        "    \"weight\":[50,60,55,70,80],\n",
        "}\n",
        "df = pd.DataFrame(data)\n",
        "print(df)\n",
        "scaler = MinMaxScaler()\n",
        "df_scaled = scaler.fit_transform(df)\n",
        "print(df_scaled)\n",
        "normalized_data=scaler.fit_transform(df)\n",
        "normalized_df = pd.DataFrame(normalized_data, columns=df.columns)\n",
        "print(\"\\nNormalized DataFrame (scaled to range [0, 1]):\")\n",
        "print(normalized_df)"
      ]
    },
    {
      "cell_type": "code",
      "source": [],
      "metadata": {
        "id": "VehfCWPTEgGw"
      },
      "execution_count": null,
      "outputs": []
    }
  ]
}