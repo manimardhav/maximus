{
  "nbformat": 4,
  "nbformat_minor": 0,
  "metadata": {
    "colab": {
      "provenance": []
    },
    "kernelspec": {
      "name": "python3",
      "display_name": "Python 3"
    },
    "language_info": {
      "name": "python"
    }
  },
  "cells": [
    {
      "cell_type": "code",
      "execution_count": 3,
      "metadata": {
        "colab": {
          "base_uri": "https://localhost:8080/"
        },
        "id": "7mb_joeGM739",
        "outputId": "14a67c3c-8b02-4e98-f1b9-f04979e7e397"
      },
      "outputs": [
        {
          "output_type": "stream",
          "name": "stdout",
          "text": [
            "   Customer_id  gender       City\n",
            "0            1    Male  Hyderabad\n",
            "1            2  Female       Pune\n",
            "2            3  Female  Bangalore\n",
            "3            4    Male     Mumbai\n",
            "   gender_Female  gender_Male  City_Bangalore  City_Hyderabad  City_Mumbai  \\\n",
            "0            0.0          1.0             0.0             1.0          0.0   \n",
            "1            1.0          0.0             0.0             0.0          0.0   \n",
            "2            1.0          0.0             1.0             0.0          0.0   \n",
            "3            0.0          1.0             0.0             0.0          1.0   \n",
            "\n",
            "   City_Pune  \n",
            "0        0.0  \n",
            "1        1.0  \n",
            "2        0.0  \n",
            "3        0.0  \n",
            "   Customer_id  gender_Female  gender_Male  City_Bangalore  City_Hyderabad  \\\n",
            "0            1            0.0          1.0             0.0             1.0   \n",
            "1            2            1.0          0.0             0.0             0.0   \n",
            "2            3            1.0          0.0             1.0             0.0   \n",
            "3            4            0.0          1.0             0.0             0.0   \n",
            "\n",
            "   City_Mumbai  City_Pune  \n",
            "0          0.0        0.0  \n",
            "1          0.0        1.0  \n",
            "2          0.0        0.0  \n",
            "3          1.0        0.0  \n"
          ]
        }
      ],
      "source": [
        "import pandas as pd\n",
        "from sklearn.preprocessing import OneHotEncoder\n",
        "\n",
        "data = {\n",
        "    \"Customer_id\": [1, 2, 3, 4],\n",
        "    \"gender\": [\"Male\", \"Female\", \"Female\", \"Male\"],\n",
        "    \"City\": [\"Hyderabad\", \"Pune\", \"Bangalore\", \"Mumbai\"]\n",
        "}\n",
        "\n",
        "df = pd.DataFrame(data)\n",
        "print(df)\n",
        "\n",
        "one_hot_encoder = OneHotEncoder(sparse_output=False)\n",
        "columns_to_encode = [\"gender\", \"City\"]\n",
        "encoded_data = one_hot_encoder.fit_transform(df[columns_to_encode])\n",
        "encoded_columns = one_hot_encoder.get_feature_names_out(columns_to_encode)\n",
        "encoded_df = pd.DataFrame(encoded_data, columns=encoded_columns)\n",
        "\n",
        "print(encoded_df)\n",
        "\n",
        "final_df = pd.concat([df.drop(columns=columns_to_encode), encoded_df], axis=1)\n",
        "print(final_df)"
      ]
    }
  ]
}