{
 "cells": [
  {
   "cell_type": "code",
   "execution_count": 2,
   "id": "c276f7eb",
   "metadata": {},
   "outputs": [
    {
     "name": "stdout",
     "output_type": "stream",
     "text": [
      "List: [1, 4, 9, 16, 25]\n",
      "First element: 1\n",
      "Third element: 9\n",
      "Last element: 25\n"
     ]
    }
   ],
   "source": [
    "#List\n",
    "\n",
    "# Creating a list with 5 elements\n",
    "my_list = [1, 4, 9, 16, 25]\n",
    "\n",
    "# Accessing elements based on index\n",
    "first_element = my_list[0]\n",
    "third_element = my_list[2]\n",
    "last_element = my_list[-1]\n",
    "\n",
    "print(\"List:\", my_list)\n",
    "print(\"First element:\", first_element)\n",
    "print(\"Third element:\", third_element)\n",
    "print(\"Last element:\", last_element)\n"
   ]
  },
  {
   "cell_type": "code",
   "execution_count": 3,
   "id": "e540d643",
   "metadata": {},
   "outputs": [
    {
     "name": "stdout",
     "output_type": "stream",
     "text": [
      "Tuple: (1, 2, 4, 8, 16)\n",
      "First element: 1\n",
      "Third element: 4\n",
      "Last element: 16\n"
     ]
    }
   ],
   "source": [
    "#Tuple\n",
    "\n",
    "# Creating a tuple with 5 elements\n",
    "my_tuple = (1, 2, 4, 8, 16)\n",
    "\n",
    "# Accessing elements based on index\n",
    "first_element = my_tuple[0]\n",
    "third_element = my_tuple[2]\n",
    "last_element = my_tuple[-1]\n",
    "\n",
    "print(\"Tuple:\", my_tuple)\n",
    "print(\"First element:\", first_element)\n",
    "print(\"Third element:\", third_element)\n",
    "print(\"Last element:\", last_element)\n"
   ]
  },
  {
   "cell_type": "code",
   "execution_count": 4,
   "id": "1c00c878",
   "metadata": {},
   "outputs": [
    {
     "name": "stdout",
     "output_type": "stream",
     "text": [
      "Dictionary: {'a': 'apple', 'b': 'banana', 'c': 'cherry', 'd': 'date', 'e': 'elderberry'}\n",
      "Value for key 'a': apple\n",
      "Value for key 'c': cherry\n",
      "Value for key 'e': elderberry\n"
     ]
    }
   ],
   "source": [
    "#Dictionary\n",
    "\n",
    "# Creating a dictionary with 5 elements\n",
    "my_dict = {\n",
    "    'a': 'apple',\n",
    "    'b': 'banana',\n",
    "    'c': 'cherry',\n",
    "    'd': 'date',\n",
    "    'e': 'elderberry'\n",
    "}\n",
    "\n",
    "# Accessing elements based on keys\n",
    "first_value = my_dict['a']\n",
    "third_value = my_dict['c']\n",
    "last_value = my_dict['e']\n",
    "\n",
    "print(\"Dictionary:\", my_dict)\n",
    "print(\"Value for key 'a':\", first_value)\n",
    "print(\"Value for key 'c':\", third_value)\n",
    "print(\"Value for key 'e':\", last_value)\n"
   ]
  },
  {
   "cell_type": "code",
   "execution_count": null,
   "id": "e7abd00c",
   "metadata": {},
   "outputs": [],
   "source": []
  }
 ],
 "metadata": {
  "kernelspec": {
   "display_name": "Python 3 (ipykernel)",
   "language": "python",
   "name": "python3"
  },
  "language_info": {
   "codemirror_mode": {
    "name": "ipython",
    "version": 3
   },
   "file_extension": ".py",
   "mimetype": "text/x-python",
   "name": "python",
   "nbconvert_exporter": "python",
   "pygments_lexer": "ipython3",
   "version": "3.11.4"
  }
 },
 "nbformat": 4,
 "nbformat_minor": 5
}
