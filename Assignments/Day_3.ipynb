{
 "cells": [
  {
   "cell_type": "code",
   "execution_count": null,
   "id": "2e5df1a5",
   "metadata": {},
   "outputs": [],
   "source": [
    "#Write a Python program that takes a student's marks in three subjects as input.\n",
    "#If the average is greater than or equal to 90, print \"Grade: A\".\n",
    "#If the average is between 80 and 89, print \"Grade: B\".\n",
    "#If the average is between 70 and 79, print \"Grade: C\".\n",
    "#Otherwise, print \"Grade: Fail\".\n"
   ]
  },
  {
   "cell_type": "code",
   "execution_count": 1,
   "id": "8da65c1b",
   "metadata": {},
   "outputs": [
    {
     "name": "stdout",
     "output_type": "stream",
     "text": [
      "Enter marks for subject 1: 78\n",
      "Enter marks for subject 2: 89\n",
      "Enter marks for subject 3: 93\n",
      "Grade: B\n"
     ]
    }
   ],
   "source": [
    "\n",
    "def calculate_average(marks):\n",
    "    return sum(marks) / len(marks)\n",
    "\n",
    "def determine_grade(average):\n",
    "    if average >= 90:\n",
    "        return \"Grade: A\"\n",
    "    elif 80 <= average < 90:\n",
    "        return \"Grade: B\"\n",
    "    elif 70 <= average < 80:\n",
    "        return \"Grade: C\"\n",
    "    else:\n",
    "        return \"Grade: Fail\"\n",
    "\n",
    "def main():\n",
    "    marks = []\n",
    "    for i in range(3):\n",
    "        mark = float(input(f\"Enter marks for subject {i + 1}: \"))\n",
    "        marks.append(mark)\n",
    "\n",
    "    average = calculate_average(marks)\n",
    "    \n",
    "    grade = determine_grade(average)\n",
    "    \n",
    "    print(grade)\n",
    "\n",
    "if __name__ == \"__main__\":\n",
    "    main()\n"
   ]
  },
  {
   "cell_type": "code",
   "execution_count": null,
   "id": "2bb179d0",
   "metadata": {},
   "outputs": [],
   "source": []
  }
 ],
 "metadata": {
  "kernelspec": {
   "display_name": "Python 3 (ipykernel)",
   "language": "python",
   "name": "python3"
  },
  "language_info": {
   "codemirror_mode": {
    "name": "ipython",
    "version": 3
   },
   "file_extension": ".py",
   "mimetype": "text/x-python",
   "name": "python",
   "nbconvert_exporter": "python",
   "pygments_lexer": "ipython3",
   "version": "3.11.4"
  }
 },
 "nbformat": 4,
 "nbformat_minor": 5
}
