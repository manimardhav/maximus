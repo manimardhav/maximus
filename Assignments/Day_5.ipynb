{
 "cells": [
  {
   "cell_type": "code",
   "execution_count": 1,
   "id": "7ac30676",
   "metadata": {},
   "outputs": [],
   "source": [
    "#1)Write a Python program that performs the following tasks:\n",
    "\n",
    "#1. Ask the user to enter a positive integer `n`.\n",
    "#2. Use a `for` loop to print all numbers from `1` to `n` on separate lines.\n",
    "#3. Use a `while` loop to calculate the sum of all numbers from `1` to `n` and print the result."
   ]
  },
  {
   "cell_type": "code",
   "execution_count": 2,
   "id": "c62a8894",
   "metadata": {},
   "outputs": [
    {
     "name": "stdout",
     "output_type": "stream",
     "text": [
      "Enter a positive integer: 45\n",
      "Numbers from 1 to 45 :\n",
      "1\n",
      "2\n",
      "3\n",
      "4\n",
      "5\n",
      "6\n",
      "7\n",
      "8\n",
      "9\n",
      "10\n",
      "11\n",
      "12\n",
      "13\n",
      "14\n",
      "15\n",
      "16\n",
      "17\n",
      "18\n",
      "19\n",
      "20\n",
      "21\n",
      "22\n",
      "23\n",
      "24\n",
      "25\n",
      "26\n",
      "27\n",
      "28\n",
      "29\n",
      "30\n",
      "31\n",
      "32\n",
      "33\n",
      "34\n",
      "35\n",
      "36\n",
      "37\n",
      "38\n",
      "39\n",
      "40\n",
      "41\n",
      "42\n",
      "43\n",
      "44\n",
      "45\n",
      "The sum of all numbers from 1 to 45 is: 1035\n"
     ]
    }
   ],
   "source": [
    "def main():\n",
    "    n = int(input(\"Enter a positive integer: \"))\n",
    "    print(\"Numbers from 1 to\", n, \":\")\n",
    "    for i in range(1, n + 1):\n",
    "        print(i)\n",
    "    \n",
    "    total = 0\n",
    "    i = 1\n",
    "    while i <= n:\n",
    "        total += i\n",
    "        i += 1\n",
    "    \n",
    "    print(f\"The sum of all numbers from 1 to {n} is: {total}\")\n",
    "\n",
    "if __name__ == \"__main__\":\n",
    "    main()\n"
   ]
  },
  {
   "cell_type": "code",
   "execution_count": 3,
   "id": "bed3fc81",
   "metadata": {},
   "outputs": [],
   "source": [
    "#2)Write a Python program that includes a user-defined function to perform the following tasks:\n",
    "\n",
    "#1. Define a function named calculate_square that takes a single argument `n` and returns the square of `n`.\n",
    "#2. In the main program, ask the user to input a positive integer.\n",
    "#3. Call the calculate_square function with the user-provided number and display the result."
   ]
  },
  {
   "cell_type": "code",
   "execution_count": 4,
   "id": "a4c15879",
   "metadata": {},
   "outputs": [
    {
     "name": "stdout",
     "output_type": "stream",
     "text": [
      "Enter a positive integer: 25\n",
      "The square of 25 is: 625\n"
     ]
    }
   ],
   "source": [
    "def calculate_square(n):\n",
    "    return n * n\n",
    "\n",
    "def main():\n",
    "    number = int(input(\"Enter a positive integer: \"))\n",
    "    square = calculate_square(number)\n",
    "    print(f\"The square of {number} is: {square}\")\n",
    "\n",
    "if __name__ == \"__main__\":\n",
    "    main()\n"
   ]
  },
  {
   "cell_type": "code",
   "execution_count": null,
   "id": "2a52bea3",
   "metadata": {},
   "outputs": [],
   "source": []
  }
 ],
 "metadata": {
  "kernelspec": {
   "display_name": "Python 3 (ipykernel)",
   "language": "python",
   "name": "python3"
  },
  "language_info": {
   "codemirror_mode": {
    "name": "ipython",
    "version": 3
   },
   "file_extension": ".py",
   "mimetype": "text/x-python",
   "name": "python",
   "nbconvert_exporter": "python",
   "pygments_lexer": "ipython3",
   "version": "3.11.4"
  }
 },
 "nbformat": 4,
 "nbformat_minor": 5
}
