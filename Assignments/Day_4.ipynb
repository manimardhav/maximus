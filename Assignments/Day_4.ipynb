{
 "cells": [
  {
   "cell_type": "code",
   "execution_count": 1,
   "id": "4739ad19",
   "metadata": {},
   "outputs": [],
   "source": [
    "#Write a Python program to calculate the sum of all even numbers between 1 and a given positive integer n"
   ]
  },
  {
   "cell_type": "code",
   "execution_count": 2,
   "id": "2af1734d",
   "metadata": {},
   "outputs": [
    {
     "name": "stdout",
     "output_type": "stream",
     "text": [
      "Enter a positive integer: 23\n",
      "The sum of all even numbers between 1 and 23 is: 132\n"
     ]
    }
   ],
   "source": [
    "\n",
    "def sum_of_evens(n):\n",
    "    total = 0\n",
    "    for number in range(2, n + 1, 2):\n",
    "        total += number\n",
    "    return total\n",
    "\n",
    "def main():\n",
    "    n = int(input(\"Enter a positive integer: \"))\n",
    "    even_sum = sum_of_evens(n)\n",
    "    print(f\"The sum of all even numbers between 1 and {n} is: {even_sum}\")\n",
    "\n",
    "if __name__ == \"__main__\":\n",
    "    main()\n"
   ]
  },
  {
   "cell_type": "code",
   "execution_count": null,
   "id": "39b359d3",
   "metadata": {},
   "outputs": [],
   "source": []
  }
 ],
 "metadata": {
  "kernelspec": {
   "display_name": "Python 3 (ipykernel)",
   "language": "python",
   "name": "python3"
  },
  "language_info": {
   "codemirror_mode": {
    "name": "ipython",
    "version": 3
   },
   "file_extension": ".py",
   "mimetype": "text/x-python",
   "name": "python",
   "nbconvert_exporter": "python",
   "pygments_lexer": "ipython3",
   "version": "3.11.4"
  }
 },
 "nbformat": 4,
 "nbformat_minor": 5
}
