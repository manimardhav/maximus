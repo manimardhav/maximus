{
 "cells": [
  {
   "cell_type": "code",
   "execution_count": 1,
   "id": "5094adf0",
   "metadata": {},
   "outputs": [],
   "source": [
    "#Assignment 1: Filtering Data Based on Conditions\n",
    "#Tasks:\n",
    "#Filter out all rows where the Transaction_Amount is greater than 2000.\n",
    "#Find all rows where the Transaction_Type is \"Loan Payment\" and the Account_Balance is greater than 5000.\n",
    "#Extract transactions made in the \"Uptown\" branch.\n",
    "#Objective:\n",
    "#Practice filtering data using conditions and boolean indexing."
   ]
  },
  {
   "cell_type": "code",
   "execution_count": 2,
   "id": "d0c38493",
   "metadata": {},
   "outputs": [
    {
     "name": "stdout",
     "output_type": "stream",
     "text": [
      "Rows where Transaction_Amount is greater than 2000:\n",
      "          Date       Account_Type    Branch Transaction_Type  \\\n",
      "2   2023-01-10            Current    Uptown     Loan Payment   \n",
      "4   2023-01-14  Recurring Deposit  Suburban     Loan Payment   \n",
      "5   2023-01-06            Current  Suburban   Service Charge   \n",
      "7   2023-01-09            Current   Central     Loan Payment   \n",
      "8   2023-01-20  Recurring Deposit  Downtown   Service Charge   \n",
      "13  2023-01-05  Recurring Deposit   Central     Loan Payment   \n",
      "14  2023-01-01      Fixed Deposit  Downtown       Withdrawal   \n",
      "15  2023-01-03            Savings  Suburban   Service Charge   \n",
      "16  2023-01-02      Fixed Deposit   Central          Deposit   \n",
      "17  2023-01-07            Current   Central     Loan Payment   \n",
      "19  2023-01-17            Savings   Central          Deposit   \n",
      "\n",
      "    Transaction_Amount  Account_Balance  \n",
      "2              3363.85         12428.67  \n",
      "4              2788.57          4779.04  \n",
      "5              4584.05          7635.47  \n",
      "7              2346.72         10708.85  \n",
      "8              3899.98         12646.56  \n",
      "13             4683.64          6762.43  \n",
      "14             4136.54          8175.08  \n",
      "15             3350.32         12836.51  \n",
      "16             4421.57          8330.40  \n",
      "17             4116.52          9785.64  \n",
      "19             4516.52          8789.19  \n",
      "\n",
      "Rows where Transaction_Type is 'Loan Payment' and Account_Balance is greater than 5000:\n",
      "          Date       Account_Type   Branch Transaction_Type  \\\n",
      "0   2023-01-19      Fixed Deposit  Central     Loan Payment   \n",
      "2   2023-01-10            Current   Uptown     Loan Payment   \n",
      "3   2023-01-18            Savings   Uptown     Loan Payment   \n",
      "7   2023-01-09            Current  Central     Loan Payment   \n",
      "13  2023-01-05  Recurring Deposit  Central     Loan Payment   \n",
      "17  2023-01-07            Current  Central     Loan Payment   \n",
      "\n",
      "    Transaction_Amount  Account_Balance  \n",
      "0               985.51          6839.59  \n",
      "2              3363.85         12428.67  \n",
      "3              1914.60          5776.63  \n",
      "7              2346.72         10708.85  \n",
      "13             4683.64          6762.43  \n",
      "17             4116.52          9785.64  \n",
      "\n",
      "Transactions made in the 'Uptown' branch:\n",
      "          Date   Account_Type  Branch Transaction_Type  Transaction_Amount  \\\n",
      "1   2023-01-16        Current  Uptown       Withdrawal              641.43   \n",
      "2   2023-01-10        Current  Uptown     Loan Payment             3363.85   \n",
      "3   2023-01-18        Savings  Uptown     Loan Payment             1914.60   \n",
      "12  2023-01-15  Fixed Deposit  Uptown   Service Charge             1225.50   \n",
      "\n",
      "    Account_Balance  \n",
      "1           8908.39  \n",
      "2          12428.67  \n",
      "3           5776.63  \n",
      "12          4224.47  \n"
     ]
    }
   ],
   "source": [
    "import pandas as pd\n",
    "\n",
    "file_path = r'C:\\ML\\Day_10_banking_data.csv'\n",
    "df = pd.read_csv(file_path)\n",
    "\n",
    "# Task 1: Filter out all rows where the Transaction_Amount is greater than 2000\n",
    "filtered_transaction_amount = df[df['Transaction_Amount'] > 2000]\n",
    "\n",
    "# Task 2: Find all rows where the Transaction_Type is \"Loan Payment\" and the Account_Balance is greater than 5000\n",
    "filtered_loan_payment = df[(df['Transaction_Type'] == 'Loan Payment') & (df['Account_Balance'] > 5000)]\n",
    "\n",
    "# Task 3: Extract transactions made in the \"Uptown\" branch\n",
    "filtered_uptown_branch = df[df['Branch'] == 'Uptown']\n",
    "\n",
    "print(\"Rows where Transaction_Amount is greater than 2000:\")\n",
    "print(filtered_transaction_amount)\n",
    "print(\"\\nRows where Transaction_Type is 'Loan Payment' and Account_Balance is greater than 5000:\")\n",
    "print(filtered_loan_payment)\n",
    "print(\"\\nTransactions made in the 'Uptown' branch:\")\n",
    "print(filtered_uptown_branch)"
   ]
  },
  {
   "cell_type": "code",
   "execution_count": 3,
   "id": "b8a13ded",
   "metadata": {},
   "outputs": [],
   "source": [
    "#Assignment 2: Data Transformation\n",
    "#Tasks:\n",
    "#Add a new column called Transaction_Fee, calculated as 2% of Transaction_Amount.\n",
    "#Create a new column Balance_Status:\n",
    "#If Account_Balance is greater than 5000, label it as \"High Balance\".\n",
    "#Otherwise, label it as \"Low Balance\".\n",
    "#Objective:\n",
    "#Learn how to create new columns and apply transformations based on existing data."
   ]
  },
  {
   "cell_type": "code",
   "execution_count": 4,
   "id": "f684cae9",
   "metadata": {},
   "outputs": [
    {
     "name": "stdout",
     "output_type": "stream",
     "text": [
      "First 5 rows of the dataset with new columns:\n",
      "         Date       Account_Type    Branch Transaction_Type  \\\n",
      "0  2023-01-19      Fixed Deposit   Central     Loan Payment   \n",
      "1  2023-01-16            Current    Uptown       Withdrawal   \n",
      "2  2023-01-10            Current    Uptown     Loan Payment   \n",
      "3  2023-01-18            Savings    Uptown     Loan Payment   \n",
      "4  2023-01-14  Recurring Deposit  Suburban     Loan Payment   \n",
      "\n",
      "   Transaction_Amount  Account_Balance  Transaction_Fee Balance_Status  \n",
      "0              985.51          6839.59          19.7102   High Balance  \n",
      "1              641.43          8908.39          12.8286   High Balance  \n",
      "2             3363.85         12428.67          67.2770   High Balance  \n",
      "3             1914.60          5776.63          38.2920   High Balance  \n",
      "4             2788.57          4779.04          55.7714    Low Balance  \n"
     ]
    }
   ],
   "source": [
    "import pandas as pd\n",
    "\n",
    "file_path = r'C:\\ML\\Day_10_banking_data.csv'\n",
    "df = pd.read_csv(file_path)\n",
    "\n",
    "# Task 1: Add a new column called Transaction_Fee, calculated as 2% of Transaction_Amount\n",
    "df['Transaction_Fee'] = df['Transaction_Amount'] * 0.02\n",
    "\n",
    "# Task 2: Create a new column Balance_Status\n",
    "df['Balance_Status'] = df['Account_Balance'].apply(lambda x: 'High Balance' if x > 5000 else 'Low Balance')\n",
    "\n",
    "print(\"First 5 rows of the dataset with new columns:\")\n",
    "print(df.head())\n"
   ]
  },
  {
   "cell_type": "code",
   "execution_count": null,
   "id": "0640123b",
   "metadata": {},
   "outputs": [],
   "source": []
  }
 ],
 "metadata": {
  "kernelspec": {
   "display_name": "Python 3 (ipykernel)",
   "language": "python",
   "name": "python3"
  },
  "language_info": {
   "codemirror_mode": {
    "name": "ipython",
    "version": 3
   },
   "file_extension": ".py",
   "mimetype": "text/x-python",
   "name": "python",
   "nbconvert_exporter": "python",
   "pygments_lexer": "ipython3",
   "version": "3.11.4"
  }
 },
 "nbformat": 4,
 "nbformat_minor": 5
}
