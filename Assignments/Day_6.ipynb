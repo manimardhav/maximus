{
 "cells": [
  {
   "cell_type": "code",
   "execution_count": 1,
   "id": "93c04764",
   "metadata": {},
   "outputs": [],
   "source": [
    "#Using the Pandas library, perform the following tasks:"
   ]
  },
  {
   "cell_type": "code",
   "execution_count": 2,
   "id": "66fa7d7f",
   "metadata": {},
   "outputs": [],
   "source": [
    "#1. Create a DataFrame from the following data:\n",
    "#| Name     | Age | Department   | Salary  |\n",
    "#|----------|-----|--------------|---------|\n",
    "#| John     | 28  | HR           | 45000   |\n",
    "#| Alice    | 34  | IT           | 60000   |\n",
    "#| Bob      | 23  | Marketing    | 35000   |\n",
    "#| Diana    | 29  | Finance      | 50000   |"
   ]
  },
  {
   "cell_type": "code",
   "execution_count": 3,
   "id": "6a8461aa",
   "metadata": {},
   "outputs": [
    {
     "name": "stdout",
     "output_type": "stream",
     "text": [
      "    Name  Age Department  Salary\n",
      "0   John   28         HR   45000\n",
      "1  Alice   34         IT   60000\n",
      "2    Bob   23  Marketing   35000\n",
      "3  Diana   29    Finance   50000\n"
     ]
    }
   ],
   "source": [
    "import pandas as pd\n",
    "data = {\n",
    "    'Name': ['John', 'Alice', 'Bob', 'Diana'],\n",
    "    'Age': [28, 34, 23, 29],\n",
    "    'Department': ['HR', 'IT', 'Marketing', 'Finance'],\n",
    "    'Salary': [45000, 60000, 35000, 50000]\n",
    "}\n",
    "\n",
    "df = pd.DataFrame(data)\n",
    "print(df)"
   ]
  },
  {
   "cell_type": "code",
   "execution_count": 4,
   "id": "21d922a8",
   "metadata": {},
   "outputs": [],
   "source": [
    "#2. Write code to:\n",
    "#- Display the first 2 rows of the DataFrame.\n",
    "#- Add a new column named `Bonus` where the bonus is 10% of the salary.\n",
    "#- Calculate the average salary of employees in the DataFrame.\n",
    "#- Filter and display employees who are older than 25."
   ]
  },
  {
   "cell_type": "code",
   "execution_count": 5,
   "id": "3b5d97bc",
   "metadata": {},
   "outputs": [
    {
     "name": "stdout",
     "output_type": "stream",
     "text": [
      "First 2 rows of the DataFrame:\n",
      "    Name  Age Department  Salary\n",
      "0   John   28         HR   45000\n",
      "1  Alice   34         IT   60000\n",
      "\n",
      "DataFrame after adding 'Bonus' column:\n",
      "    Name  Age Department  Salary   Bonus\n",
      "0   John   28         HR   45000  4500.0\n",
      "1  Alice   34         IT   60000  6000.0\n",
      "2    Bob   23  Marketing   35000  3500.0\n",
      "3  Diana   29    Finance   50000  5000.0\n",
      "\n",
      "The average salary of employees is: 47500.0\n",
      "\n",
      "Employees who are older than 25:\n",
      "    Name  Age Department  Salary   Bonus\n",
      "0   John   28         HR   45000  4500.0\n",
      "1  Alice   34         IT   60000  6000.0\n",
      "3  Diana   29    Finance   50000  5000.0\n"
     ]
    }
   ],
   "source": [
    "import pandas as pd\n",
    "data = {\n",
    "    'Name': ['John', 'Alice', 'Bob', 'Diana'],\n",
    "    'Age': [28, 34, 23, 29],\n",
    "    'Department': ['HR', 'IT', 'Marketing', 'Finance'],\n",
    "    'Salary': [45000, 60000, 35000, 50000]\n",
    "}\n",
    "\n",
    "df = pd.DataFrame(data)\n",
    "print(\"First 2 rows of the DataFrame:\")\n",
    "print(df.head(2))\n",
    "\n",
    "# Add a new column named 'Bonus' where the bonus is 10% of the salary\n",
    "df['Bonus'] = df['Salary'] * 0.10\n",
    "print(\"\\nDataFrame after adding 'Bonus' column:\")\n",
    "print(df)\n",
    "\n",
    "# Calculate the average salary of employees in the DataFrame\n",
    "average_salary = df['Salary'].mean()\n",
    "print(f\"\\nThe average salary of employees is: {average_salary}\")\n",
    "\n",
    "# Filter and display employees who are older than 25\n",
    "filtered_df = df[df['Age'] > 25]\n",
    "print(\"\\nEmployees who are older than 25:\")\n",
    "print(filtered_df)\n"
   ]
  },
  {
   "cell_type": "code",
   "execution_count": null,
   "id": "f58012ce",
   "metadata": {},
   "outputs": [],
   "source": []
  }
 ],
 "metadata": {
  "kernelspec": {
   "display_name": "Python 3 (ipykernel)",
   "language": "python",
   "name": "python3"
  },
  "language_info": {
   "codemirror_mode": {
    "name": "ipython",
    "version": 3
   },
   "file_extension": ".py",
   "mimetype": "text/x-python",
   "name": "python",
   "nbconvert_exporter": "python",
   "pygments_lexer": "ipython3",
   "version": "3.11.4"
  }
 },
 "nbformat": 4,
 "nbformat_minor": 5
}
