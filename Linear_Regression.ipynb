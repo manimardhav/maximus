{
  "nbformat": 4,
  "nbformat_minor": 0,
  "metadata": {
    "colab": {
      "provenance": []
    },
    "kernelspec": {
      "name": "python3",
      "display_name": "Python 3"
    },
    "language_info": {
      "name": "python"
    }
  },
  "cells": [
    {
      "cell_type": "code",
      "execution_count": 3,
      "metadata": {
        "colab": {
          "base_uri": "https://localhost:8080/"
        },
        "id": "xqV_nytKAOvZ",
        "outputId": "415e3825-6e08-440b-9fa4-78f488b18b98"
      },
      "outputs": [
        {
          "output_type": "stream",
          "name": "stdout",
          "text": [
            "Total Fare for Ola: ₹550\n",
            "Total Fare for Uber: ₹1035\n",
            "Ola Offer is a lower price.\n"
          ]
        }
      ],
      "source": [
        "'''compare the prices of ola and uber which one low price and by considering the below following things\n",
        "Below following things\n",
        "y = mx + c\n",
        "fare price is 25 for ola\n",
        "no.of Km Traveled(20)\n",
        "Ola :Base price is 50\n",
        "Uber:base price is 35\n",
        "fare price:50'''\n",
        "ola_base_price = 50\n",
        "ola_fare_per_km = 25\n",
        "distance_traveled = 20\n",
        "\n",
        "uber_base_price = 35\n",
        "uber_fare_per_km = 50\n",
        "\n",
        "ola_total_fare = ola_base_price + (ola_fare_per_km * distance_traveled)\n",
        "uber_total_fare = uber_base_price + (uber_fare_per_km * distance_traveled)\n",
        "\n",
        "print(f\"Total Fare for Ola: ₹{ola_total_fare}\")\n",
        "print(f\"Total Fare for Uber: ₹{uber_total_fare}\")\n",
        "\n",
        "if ola_total_fare < uber_total_fare:\n",
        "    print(\"Ola Offer is a lower price.\")\n",
        "else:\n",
        "    print(\"Uber is cheaper.\")\n"
      ]
    },
    {
      "cell_type": "code",
      "source": [],
      "metadata": {
        "id": "xr8XspBgEZlp"
      },
      "execution_count": null,
      "outputs": []
    }
  ]
}