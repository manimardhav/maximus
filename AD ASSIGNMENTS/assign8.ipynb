{
 "cells": [
  {
   "cell_type": "code",
   "execution_count": 1,
   "id": "c614cee1",
   "metadata": {},
   "outputs": [],
   "source": [
    "#1)Data Filtering\n",
    "#Extract all rows where sales are greater than 1000.\n",
    "#Find all sales records for a specific region (e.g., \"East\")."
   ]
  },
  {
   "cell_type": "code",
   "execution_count": 4,
   "id": "3e7c53a8",
   "metadata": {},
   "outputs": [
    {
     "name": "stdout",
     "output_type": "stream",
     "text": [
      "Column names in the dataset:\n",
      "Index(['Date', 'Product', 'Region', 'Sales', 'Profit', 'Quantity'], dtype='object')\n",
      "Column names after stripping:\n",
      "Index(['Date', 'Product', 'Region', 'Sales', 'Profit', 'Quantity'], dtype='object')\n",
      "Error: Required columns 'sales' or 'region' not found in the dataset.\n"
     ]
    }
   ],
   "source": [
    "import pandas as pd\n",
    "\n",
    "# Load your dataset (replace 'your_dataset.csv' with your actual file)\n",
    "df = pd.read_csv(r'C:\\ML\\Day_8_sales_data.csv')\n",
    "\n",
    "# Print the column names to diagnose the issue\n",
    "print(\"Column names in the dataset:\")\n",
    "print(df.columns)\n",
    "\n",
    "# Strip whitespace from column names (if necessary)\n",
    "df.columns = df.columns.str.strip()\n",
    "\n",
    "# Check the actual column names again after stripping\n",
    "print(\"Column names after stripping:\")\n",
    "print(df.columns)\n",
    "\n",
    "# Define the specific region you want to filter by\n",
    "specific_region = 'North'  # Replace with your desired region\n",
    "\n",
    "# Check if the required columns exist\n",
    "if 'sales' in df.columns and 'region' in df.columns:\n",
    "    # Filter rows where sales are greater than 1000\n",
    "    filtered_sales = df[df['sales'] > 1000]  # Adjust 'sales' if necessary\n",
    "\n",
    "    # Further filter for the specific region\n",
    "    specific_region_sales = filtered_sales[filtered_sales['region'] == specific_region]  # Adjust 'region' if necessary\n",
    "\n",
    "    # Display the filtered DataFrame\n",
    "    print(f\"Sales greater than 1000 for region '{specific_region}':\")\n",
    "    print(specific_region_sales)\n",
    "else:\n",
    "    print(\"Error: Required columns 'sales' or 'region' not found in the dataset.\")"
   ]
  },
  {
   "cell_type": "code",
   "execution_count": null,
   "id": "24e29022",
   "metadata": {},
   "outputs": [],
   "source": []
  }
 ],
 "metadata": {
  "kernelspec": {
   "display_name": "Python 3 (ipykernel)",
   "language": "python",
   "name": "python3"
  },
  "language_info": {
   "codemirror_mode": {
    "name": "ipython",
    "version": 3
   },
   "file_extension": ".py",
   "mimetype": "text/x-python",
   "name": "python",
   "nbconvert_exporter": "python",
   "pygments_lexer": "ipython3",
   "version": "3.11.4"
  }
 },
 "nbformat": 4,
 "nbformat_minor": 5
}
